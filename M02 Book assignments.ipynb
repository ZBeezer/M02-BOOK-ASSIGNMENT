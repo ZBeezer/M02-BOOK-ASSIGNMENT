{
 "cells": [
  {
   "cell_type": "code",
   "execution_count": 4,
   "id": "ea2bf01f-e32b-4e61-a24e-3dd65ae86066",
   "metadata": {},
   "outputs": [
    {
     "name": "stdout",
     "output_type": "stream",
     "text": [
      "too high\n"
     ]
    }
   ],
   "source": [
    "#ZACHARY BEASLEY\n",
    "#3/29/24\n",
    "\n",
    "#4.1\n",
    "secret = 6\n",
    "guess = 9\n",
    "\n",
    "if guess < secret:\n",
    "    print (\"too low\")\n",
    "elif guess > secret:\n",
    "    print (\"too high\")\n",
    "else:\n",
    "    print (\"just right\")"
   ]
  },
  {
   "cell_type": "code",
   "execution_count": 11,
   "id": "574ebf2a-6423-4cde-9836-71fa19e4d73d",
   "metadata": {},
   "outputs": [
    {
     "name": "stdout",
     "output_type": "stream",
     "text": [
      "Is the object small?(y/n):  y\n",
      "Is the object green?(y/n):  n\n"
     ]
    },
    {
     "name": "stdout",
     "output_type": "stream",
     "text": [
      "cherry\n"
     ]
    }
   ],
   "source": [
    "#4.2\n",
    "\n",
    "small = True\n",
    "green = True\n",
    "\n",
    "def ask_question(prompt):\n",
    "    response = input(prompt + \"(y/n): \").lower().strip()\n",
    "    return response == 'y'\n",
    "\n",
    "small = ask_question(\"Is the object small?\")\n",
    "green = ask_question(\"Is the object green?\")\n",
    "\n",
    "\n",
    "if small:\n",
    "    if green:\n",
    "        print(\"pea\") # small and green\n",
    "    else:\n",
    "        print(\"cherry\") # small and not green\n",
    "else:\n",
    "    if green:\n",
    "        print(\"watermelon\") # large and green\n",
    "    else:\n",
    "        print(\"pumpkin\") # large and not green (can be, but typically orange)\n"
   ]
  },
  {
   "cell_type": "code",
   "execution_count": 12,
   "id": "cb81c1df-5855-4f32-a0ab-340460af74c3",
   "metadata": {},
   "outputs": [
    {
     "name": "stdout",
     "output_type": "stream",
     "text": [
      "3\n",
      "2\n",
      "1\n",
      "0\n"
     ]
    }
   ],
   "source": [
    "# 6.1\n",
    "\n",
    "values = [3,2,1,0]\n",
    "\n",
    "for value in values:\n",
    "    print(value)"
   ]
  },
  {
   "cell_type": "code",
   "execution_count": 14,
   "id": "5c77c2e5-ede4-4f9c-af3e-46bee11481e6",
   "metadata": {},
   "outputs": [
    {
     "name": "stdout",
     "output_type": "stream",
     "text": [
      "too low\n",
      "too low\n",
      "too low\n",
      "too low\n",
      "too low\n",
      "too low\n",
      "found it!\n"
     ]
    }
   ],
   "source": [
    "#6.2\n",
    "\n",
    "guess_me = 7\n",
    "\n",
    "number = 1\n",
    "\n",
    "while True:\n",
    "    if number < guess_me:\n",
    "        print('too low')\n",
    "    elif number == guess_me:\n",
    "        print('found it!')\n",
    "        break\n",
    "    else:\n",
    "        print('oops')\n",
    "        break\n",
    "    number += 1"
   ]
  },
  {
   "cell_type": "code",
   "execution_count": 15,
   "id": "672fd517-395b-4048-beb0-d0df191bcaef",
   "metadata": {},
   "outputs": [
    {
     "name": "stdout",
     "output_type": "stream",
     "text": [
      "too low\n",
      "too low\n",
      "too low\n",
      "too low\n",
      "too low\n",
      "found it!\n"
     ]
    }
   ],
   "source": [
    "#6.3\n",
    "\n",
    "guess_me = 5\n",
    "\n",
    "for number in range(10):\n",
    "    if number < guess_me:\n",
    "        print('too low')\n",
    "    elif number == guess_me:\n",
    "        print('found it!')\n",
    "        break\n",
    "    else:\n",
    "        print('oops')\n",
    "        break"
   ]
  }
 ],
 "metadata": {
  "kernelspec": {
   "display_name": "Python 3 (ipykernel)",
   "language": "python",
   "name": "python3"
  },
  "language_info": {
   "codemirror_mode": {
    "name": "ipython",
    "version": 3
   },
   "file_extension": ".py",
   "mimetype": "text/x-python",
   "name": "python",
   "nbconvert_exporter": "python",
   "pygments_lexer": "ipython3",
   "version": "3.11.7"
  }
 },
 "nbformat": 4,
 "nbformat_minor": 5
}
